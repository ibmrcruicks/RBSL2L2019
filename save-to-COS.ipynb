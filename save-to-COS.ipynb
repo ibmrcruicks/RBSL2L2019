{
 "cells": [
  {
   "cell_type": "markdown",
   "metadata": {},
   "source": [
    "# Saving a file to the Cloud Object Storage bucket associated with a project"
   ]
  },
  {
   "cell_type": "markdown",
   "metadata": {},
   "source": [
    "To access the COS bucket, insert the code for reading a file from the project asset store into a dataframe.\n",
    "\n",
    "Note the name of the client \"handle\" returned from the `ibm_boto3.cliient()` call"
   ]
  },
  {
   "cell_type": "code",
   "execution_count": 4,
   "metadata": {},
   "outputs": [],
   "source": [
    "import types\n",
    "import pandas as pd\n",
    "from botocore.client import Config\n",
    "import ibm_boto3\n",
    "\n",
    "def __iter__(self): return 0\n",
    "\n",
    "# @hidden_cell\n",
    "# The following code accesses a file in your IBM Cloud Object Storage. It includes your credentials.\n",
    "# You might want to remove those credentials before you share your notebook.\n",
    "client_6dc1c71684284014abfc507c7572cfd0 = ibm_boto3.client(service_name='s3',\n",
    "    ibm_api_key_id='KU47afVQQYKunotvalidforreuseNGceWA-4IOpfoBPp8',\n",
    "    ibm_auth_endpoint=\"https://iam.bluemix.net/oidc/token\",\n",
    "    config=Config(signature_version='oauth'),\n",
    "    endpoint_url='https://s3.eu-geo.objectstorage.service.networklayer.com')\n",
    "\n",
    "body = client_6dc1c71684284014abfc507c7572cfd0.get_object(Bucket='bristol-donotdelete-pr-vpkcm0h4rxj9ku',Key='GoSales Transactions for Naive Bayes Model.csv')['Body']\n",
    "# add missing __iter__ method, so pandas accepts body as file-like object\n",
    "if not hasattr(body, \"__iter__\"): body.__iter__ = types.MethodType( __iter__, body )\n",
    "\n",
    "df_data_1 = pd.read_csv(body)\n",
    "df_data_1.head()\n"
   ]
  },
  {
   "cell_type": "markdown",
   "metadata": {},
   "source": [
    "Now insert the file credentials "
   ]
  },
  {
   "cell_type": "code",
   "execution_count": null,
   "metadata": {},
   "outputs": [],
   "source": [
    "\n",
    "# @hidden_cell\n",
    "# The following code contains the credentials for a file in your IBM Cloud Object Storage.\n",
    "# You might want to remove those credentials before you share your notebook.\n",
    "credentials_1 = {\n",
    "    'IAM_SERVICE_ID': 'iam-ServiceId-61b081a5-0d6c-4b5c-9471-fdf8df61558e',\n",
    "    'IBM_API_KEY_ID': 'KU47afVQQYKunotvalidforreuseNGceWA-4IOpfoBPp8',\n",
    "    'ENDPOINT': 'https://s3.eu-geo.objectstorage.service.networklayer.com',\n",
    "    'IBM_AUTH_ENDPOINT': 'https://iam.bluemix.net/oidc/token',\n",
    "    'BUCKET': 'bristol-donotdelete-pr-vpkcm0h4rxj9ku',\n",
    "    'FILE': 'GoSales Transactions for Naive Bayes Model.csv'\n",
    "}\n"
   ]
  },
  {
   "cell_type": "markdown",
   "metadata": {},
   "source": [
    "Generate a dataframe for writing back out to the COS bucket"
   ]
  },
  {
   "cell_type": "code",
   "execution_count": 3,
   "metadata": {},
   "outputs": [],
   "source": [
    "df_out_data = df_data_1[[\"PRODUCT_LINE\",\"GENDER\"]]"
   ]
  },
  {
   "cell_type": "markdown",
   "metadata": {},
   "source": [
    "Get the name of the project bucket from the credentials"
   ]
  },
  {
   "cell_type": "code",
   "execution_count": 5,
   "metadata": {},
   "outputs": [],
   "source": [
    "bucket=credentials_1[\"BUCKET\"]"
   ]
  },
  {
   "cell_type": "markdown",
   "metadata": {},
   "source": [
    "Create a target filename for the output"
   ]
  },
  {
   "cell_type": "code",
   "execution_count": 8,
   "metadata": {},
   "outputs": [],
   "source": [
    "out_file_name=\"demo.csv\""
   ]
  },
  {
   "cell_type": "markdown",
   "metadata": {},
   "source": [
    "Convert the dataframe into a CSV filebuffer"
   ]
  },
  {
   "cell_type": "code",
   "execution_count": null,
   "metadata": {},
   "outputs": [],
   "source": [
    "out_file_body=df_out_data.to_csv(None)"
   ]
  },
  {
   "cell_type": "markdown",
   "metadata": {},
   "source": [
    "Using the client handle, invoke the __put_object()__ method to save the file."
   ]
  },
  {
   "cell_type": "code",
   "execution_count": 9,
   "metadata": {
    "scrolled": true
   },
   "outputs": [
    {
     "data": {
      "text/plain": [
       "{'ETag': '\"6623d14039a31d5da203749d014a13da\"',\n",
       " 'ResponseMetadata': {'HTTPHeaders': {'content-length': '0',\n",
       "   'date': 'Tue, 07 May 2019 21:07:28 GMT',\n",
       "   'etag': '\"6623d14039a31d5da203749d014a13da\"',\n",
       "   'server': '3.14.3.75',\n",
       "   'x-amz-request-id': '5c5dffc2-a2a6-4883-af40-413154231150',\n",
       "   'x-clv-request-id': '5c5dffc2-a2a6-4883-af40-413154231150',\n",
       "   'x-clv-s3-version': '2.5'},\n",
       "  'HTTPStatusCode': 200,\n",
       "  'HostId': '',\n",
       "  'RequestId': '5c5dffc2-a2a6-4883-af40-413154231150',\n",
       "  'RetryAttempts': 0}}"
      ]
     },
     "execution_count": 9,
     "metadata": {},
     "output_type": "execute_result"
    }
   ],
   "source": [
    "client_6dc1c71684284014abfc507c7572cfd0.put_object(Body=out_file_body,Bucket=bucket,Key=out_file_name)\n"
   ]
  },
  {
   "cell_type": "code",
   "execution_count": null,
   "metadata": {},
   "outputs": [],
   "source": []
  }
 ],
 "metadata": {
  "kernelspec": {
   "display_name": "Python 3.5",
   "language": "python",
   "name": "python3"
  },
  "language_info": {
   "codemirror_mode": {
    "name": "ipython",
    "version": 3
   },
   "file_extension": ".py",
   "mimetype": "text/x-python",
   "name": "python",
   "nbconvert_exporter": "python",
   "pygments_lexer": "ipython3",
   "version": "3.5.5"
  }
 },
 "nbformat": 4,
 "nbformat_minor": 1
}
